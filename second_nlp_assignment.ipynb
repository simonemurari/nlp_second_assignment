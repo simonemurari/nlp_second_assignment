{
 "cells": [
  {
   "cell_type": "code",
   "execution_count": 1,
   "metadata": {},
   "outputs": [
    {
     "name": "stderr",
     "output_type": "stream",
     "text": [
      "AVX = 1 | AVX2 = 1 | AVX512 = 1 | AVX512_VBMI = 0 | AVX512_VNNI = 0 | FMA = 1 | NEON = 0 | ARM_FMA = 0 | F16C = 1 | FP16_VA = 0 | WASM_SIMD = 0 | BLAS = 1 | SSE3 = 1 | SSSE3 = 0 | VSX = 0 | \n"
     ]
    }
   ],
   "source": [
    "import re\n",
    "import os\n",
    "from sklearn.feature_extraction.text import CountVectorizer\n",
    "from sklearn.metrics.pairwise import cosine_distances\n",
    "from nltk.corpus import stopwords\n",
    "from nltk.tokenize import word_tokenize\n",
    "from llama_cpp import Llama\n",
    "\n",
    "# Load the LLM\n",
    "llm = Llama(model_path=\"./mistral-7b-instruct-v0.2.Q4_K_M.gguf\", n_gpu_layers=45,  n_ctx=4096, chat_format='llama-2')\n",
    "\n",
    "# Initialize the Count Vectorizer\n",
    "vectorizer = CountVectorizer()\n",
    "\n",
    "# Get the stop words for the English language from NLTK\n",
    "stop_words = stopwords.words('english')"
   ]
  },
  {
   "cell_type": "code",
   "execution_count": 2,
   "metadata": {},
   "outputs": [],
   "source": [
    "def generate_slices(input, window_size, overlap_size=100, threshold=0.2):\n",
    "    \"\"\" \n",
    "    Generate slices from a tokenized text if it is too long for the LLM.\n",
    "    \n",
    "    Args:\n",
    "        input (list): A tokenized text.\n",
    "        window_size (int): The size of the window.\n",
    "        overlap_size (int): The size of the overlap between slices.\n",
    "        threshold (float): The threshold for the cosine distance.\n",
    "    \n",
    "    Returns:\n",
    "        A list of slices.\n",
    "    \"\"\"\n",
    "\n",
    "    slices = []\n",
    "    # If the input is shorter than the window size, return it as is\n",
    "    if len(input) <= window_size:\n",
    "        return [llm.detokenize(input).decode('utf-8')]\n",
    "    \n",
    "    # Otherwise, generate slices of the input and return them\n",
    "    for i in range(0, len(input), window_size - overlap_size):\n",
    "        slice = llm.detokenize(input[i:i + window_size]).decode('utf-8')\n",
    "        if slices:\n",
    "            X = vectorizer.fit_transform([slice, slices[-1]])\n",
    "            if cosine_distances(X[0], X[1]) >= threshold:\n",
    "                slices.append(slice)\n",
    "            else:\n",
    "                while True:\n",
    "                    i += 1\n",
    "                    slice = llm.detokenize(input[i:i + window_size]).decode('utf-8')\n",
    "                    X = vectorizer.fit_transform([slice, slices[-1]])\n",
    "                    if cosine_distances(X[0], X[1]) >= threshold:\n",
    "                        slices.append(slice)\n",
    "                        break\n",
    "                    elif i % window_size == 0:\n",
    "                        slices.append(slice)\n",
    "                        break\n",
    "        else:\n",
    "            slices.append(slice)\n",
    "    return slices"
   ]
  },
  {
   "cell_type": "code",
   "execution_count": 3,
   "metadata": {},
   "outputs": [
    {
     "name": "stdout",
     "output_type": "stream",
     "text": [
      "file: Affordable Care Act[medical].txt, tokens: 21170, slices: 6\n",
      "file: Chewing[medical].txt, tokens: 937, slices: 1\n",
      "file: Coeliac disease[medical].txt, tokens: 9768, slices: 3\n",
      "file: Hochelaga, Land of Souls[non-medical].txt, tokens: 1866, slices: 1\n",
      "file: Malignancy[medical].txt, tokens: 2122, slices: 1\n",
      "file: Occupy movement[non-medical].txt, tokens: 14963, slices: 4\n",
      "file: Outlaw King[non-medical].txt, tokens: 1832, slices: 1\n",
      "file: Phoenician–Punic literature[non-medical].txt, tokens: 1711, slices: 1\n",
      "file: Political journalism[non-medical].txt, tokens: 1386, slices: 1\n",
      "file: United States Public Health Service[medical].txt, tokens: 3625, slices: 1\n"
     ]
    }
   ],
   "source": [
    "# The question to ask the LLM\n",
    "question = 'Tell me the main topic of this text: '\n",
    "\n",
    "# The length of the question in tokens\n",
    "len_encoded_question = len(llm.tokenize(question.encode('utf-8')))\n",
    "\n",
    "\n",
    "# Each file in the pages folder is split into words using NLTK word_tokenize, then the stop words are removed and using a regex the punctuation is fixed. Finally the text is encoded using the LLM\n",
    "# tokenizer and passed to the generate_slices function to generate slices of the text that are less than ~4096 tokens long and have a cosine distance of at least 0.2 from the previous slice.\n",
    "slices = {}\n",
    "for file in os.listdir('pages'):\n",
    "    with open(f'pages/{file}', 'r', encoding='utf-8') as f:\n",
    "        text = f.read()\n",
    "        text = word_tokenize(text)\n",
    "        text = [word for word in text if word not in stop_words]\n",
    "        text = \" \".join(text)\n",
    "        text = re.sub(r\"(?: ([.,;%'\\\":\\)\\]?!]))\", r\"\\g<1>\", text).replace('( ', '(').replace('[ ', '[').replace(' ``', '\"').replace('\\'\\'', '\"')\n",
    "        encoded_full_text = llm.tokenize(text.encode('utf-8'))\n",
    "        slices[file] = generate_slices(encoded_full_text, window_size=4096-150-len_encoded_question)\n",
    "        print(f'file: {file}, tokens: {len(encoded_full_text)}, slices: {len(slices[file])}')"
   ]
  },
  {
   "cell_type": "code",
   "execution_count": 4,
   "metadata": {},
   "outputs": [
    {
     "name": "stdout",
     "output_type": "stream",
     "text": [
      "file: Affordable Care Act[medical].txt\n",
      "    Generated answer for slice 1\n"
     ]
    },
    {
     "name": "stderr",
     "output_type": "stream",
     "text": [
      "Llama.generate: prefix-match hit\n"
     ]
    },
    {
     "name": "stdout",
     "output_type": "stream",
     "text": [
      "    Generated answer for slice 2\n"
     ]
    },
    {
     "name": "stderr",
     "output_type": "stream",
     "text": [
      "Llama.generate: prefix-match hit\n"
     ]
    },
    {
     "name": "stdout",
     "output_type": "stream",
     "text": [
      "    Generated answer for slice 3\n"
     ]
    },
    {
     "name": "stderr",
     "output_type": "stream",
     "text": [
      "Llama.generate: prefix-match hit\n"
     ]
    },
    {
     "name": "stdout",
     "output_type": "stream",
     "text": [
      "    Generated answer for slice 4\n"
     ]
    },
    {
     "name": "stderr",
     "output_type": "stream",
     "text": [
      "Llama.generate: prefix-match hit\n"
     ]
    },
    {
     "name": "stdout",
     "output_type": "stream",
     "text": [
      "    Generated answer for slice 5\n"
     ]
    },
    {
     "name": "stderr",
     "output_type": "stream",
     "text": [
      "Llama.generate: prefix-match hit\n"
     ]
    },
    {
     "name": "stdout",
     "output_type": "stream",
     "text": [
      "    Generated answer for slice 6\n",
      "file: Chewing[medical].txt\n"
     ]
    },
    {
     "name": "stderr",
     "output_type": "stream",
     "text": [
      "Llama.generate: prefix-match hit\n"
     ]
    },
    {
     "name": "stdout",
     "output_type": "stream",
     "text": [
      "    Generated answer for slice 1\n",
      "file: Coeliac disease[medical].txt\n"
     ]
    },
    {
     "name": "stderr",
     "output_type": "stream",
     "text": [
      "Llama.generate: prefix-match hit\n"
     ]
    },
    {
     "name": "stdout",
     "output_type": "stream",
     "text": [
      "    Generated answer for slice 1\n"
     ]
    },
    {
     "name": "stderr",
     "output_type": "stream",
     "text": [
      "Llama.generate: prefix-match hit\n"
     ]
    },
    {
     "name": "stdout",
     "output_type": "stream",
     "text": [
      "    Generated answer for slice 2\n"
     ]
    },
    {
     "name": "stderr",
     "output_type": "stream",
     "text": [
      "Llama.generate: prefix-match hit\n"
     ]
    },
    {
     "name": "stdout",
     "output_type": "stream",
     "text": [
      "    Generated answer for slice 3\n",
      "file: Hochelaga, Land of Souls[non-medical].txt\n"
     ]
    },
    {
     "name": "stderr",
     "output_type": "stream",
     "text": [
      "Llama.generate: prefix-match hit\n"
     ]
    },
    {
     "name": "stdout",
     "output_type": "stream",
     "text": [
      "    Generated answer for slice 1\n",
      "file: Malignancy[medical].txt\n"
     ]
    },
    {
     "name": "stderr",
     "output_type": "stream",
     "text": [
      "Llama.generate: prefix-match hit\n"
     ]
    },
    {
     "name": "stdout",
     "output_type": "stream",
     "text": [
      "    Generated answer for slice 1\n",
      "file: Occupy movement[non-medical].txt\n"
     ]
    },
    {
     "name": "stderr",
     "output_type": "stream",
     "text": [
      "Llama.generate: prefix-match hit\n"
     ]
    },
    {
     "name": "stdout",
     "output_type": "stream",
     "text": [
      "    Generated answer for slice 1\n"
     ]
    },
    {
     "name": "stderr",
     "output_type": "stream",
     "text": [
      "Llama.generate: prefix-match hit\n"
     ]
    },
    {
     "name": "stdout",
     "output_type": "stream",
     "text": [
      "    Generated answer for slice 2\n"
     ]
    },
    {
     "name": "stderr",
     "output_type": "stream",
     "text": [
      "Llama.generate: prefix-match hit\n"
     ]
    },
    {
     "name": "stdout",
     "output_type": "stream",
     "text": [
      "    Generated answer for slice 3\n"
     ]
    },
    {
     "name": "stderr",
     "output_type": "stream",
     "text": [
      "Llama.generate: prefix-match hit\n"
     ]
    },
    {
     "name": "stdout",
     "output_type": "stream",
     "text": [
      "    Generated answer for slice 4\n",
      "file: Outlaw King[non-medical].txt\n"
     ]
    },
    {
     "name": "stderr",
     "output_type": "stream",
     "text": [
      "Llama.generate: prefix-match hit\n"
     ]
    },
    {
     "name": "stdout",
     "output_type": "stream",
     "text": [
      "    Generated answer for slice 1\n",
      "file: Phoenician–Punic literature[non-medical].txt\n"
     ]
    },
    {
     "name": "stderr",
     "output_type": "stream",
     "text": [
      "Llama.generate: prefix-match hit\n"
     ]
    },
    {
     "name": "stdout",
     "output_type": "stream",
     "text": [
      "    Generated answer for slice 1\n",
      "file: Political journalism[non-medical].txt\n"
     ]
    },
    {
     "name": "stderr",
     "output_type": "stream",
     "text": [
      "Llama.generate: prefix-match hit\n"
     ]
    },
    {
     "name": "stdout",
     "output_type": "stream",
     "text": [
      "    Generated answer for slice 1\n",
      "file: United States Public Health Service[medical].txt\n"
     ]
    },
    {
     "name": "stderr",
     "output_type": "stream",
     "text": [
      "Llama.generate: prefix-match hit\n"
     ]
    },
    {
     "name": "stdout",
     "output_type": "stream",
     "text": [
      "    Generated answer for slice 1\n"
     ]
    }
   ],
   "source": [
    "# A dictionary to store the topics for each file\n",
    "topics = {}\n",
    "\n",
    "# For each file, ask the LLM the question for each slice and store the answer in the topics dictionary\n",
    "for file, slices in slices.items():\n",
    "    print(f'file: {file}')\n",
    "    for slice in slices:\n",
    "        chat = llm.create_chat_completion(\n",
    "            messages= [\n",
    "                {\n",
    "                    \"role\": \"system\",\n",
    "                    \"content\": \"You are an helpful assistant who can find the main topic of a text and you answer with fewer than 100 words.\"\n",
    "                },\n",
    "                {\n",
    "                    \"role\": \"user\",\n",
    "                    \"content\": question + slice\n",
    "                }\n",
    "            ],\n",
    "            max_tokens=150\n",
    "        )\n",
    "        print(f'    Generated answer for slice {slices.index(slice) + 1}')\n",
    "        if topics.get(file) is None:\n",
    "            topics[file] = [chat['choices'][0]['message']['content']]\n",
    "        else:\n",
    "            topics[file].append(chat['choices'][0]['message']['content'])"
   ]
  },
  {
   "cell_type": "code",
   "execution_count": 5,
   "metadata": {},
   "outputs": [
    {
     "name": "stdout",
     "output_type": "stream",
     "text": [
      "Affordable Care Act[medical].txt\n",
      "    Slice 1:\n",
      " The main topic of this text is the Affordable Care Act (ACA), also known as Obamacare. It discusses the enactment and major provisions of the law, which represents a significant regulatory overhaul of the U.S. healthcare system. The text covers topics such as insurance regulations, Medicaid expansion, cost savings, opposition, and legal challenges to the ACA.\n",
      "    Slice 2:\n",
      " The main topic of this text is the history and implementation of the individual mandate in healthcare reform in the United States, specifically during the presidencies of Bill Clinton and Barack Obama. The text discusses various proposals for healthcare reform, including those from conservative think-tanks like The Heritage Foundation, and the eventual passage of the Affordable Care Act (ACA) under President Obama, which included an individual mandate. The text also touches on the political debates and controversies surrounding these proposals and their implementation.\n",
      "    Slice 3:\n",
      " The main topic of this text is the impact and benefits of Medicaid expansion under the Affordable Care Act (ACA) on various health outcomes, including access to care, cost savings, and mortality rates. The text also discusses studies that compare states that expanded Medicaid with those that did not and the resulting differences in uninsured rates, healthcare utilization, and health outcomes for different patient populations such as people living with HIV and cancer patients. Additionally, the text touches on the cost implications of Medica\n",
      "    Slice 4:\n",
      " The main topic of this text is the Affordable Care Act (ACA) and its economic impact on various groups, including income distribution, deficit reduction, employment, and public opinion. The text also discusses controversies surrounding specific provisions such as the employer mandate, death panels, and insurance exchanges.\n",
      "    Slice 5:\n",
      " The main topic of this text is the constitutionality of the Affordable Care Act (ACA) and various lawsuits challenging different aspects of the law, including the individual mandate, contraception mandate, cost-sharing subsidies, and severability. The text discusses multiple Supreme Court cases, such as Burwell v. Hobby Lobby and California v. Texas, as well as ongoing efforts to repeal or weaken the ACA through legislative and executive actions.\n",
      "    Slice 6:\n",
      " The main topic of this text is the Patient Protection and Affordable Care Act (ACA), also known as Obamacare, and its impact on health care policy in the United States. The text includes information about various publications and reports analyzing the ACA, as well as legislative materials related to its implementation and repeal efforts.\n",
      "\n",
      "\n",
      "Chewing[medical].txt\n",
      "    Slice 1:\n",
      " The main topic of this text is the process of chewing food, its significance in digestion and health, and its evolution in different species.\n",
      "\n",
      "\n",
      "Coeliac disease[medical].txt\n",
      "    Slice 1:\n",
      " The main topic of this text is Coeliac disease, a long-term autoimmune disorder affecting the small intestine that causes intolerance to gluten found in wheat, rye, and barley. Symptoms include gastrointestinal problems, chronic diarrhea, malabsorption, and growth issues in children. The condition is caused by an abnormal immune response to gluten, leading to the production of autoantibodies that affect various organs. Diagnosis involves blood antib\n",
      "    Slice 2:\n",
      " The main topic of this text is cascade immune cell proliferation in the context of celiac disease, including diagnosis, testing, and treatment approaches. The text discusses various antibody tests, intestinal biopsies, and histological classifications used to diagnose celiac disease, as well as alternative causes for villous atrophy and malabsorption. It also mentions the importance of a gluten-free diet in managing the condition and improving quality of life.\n",
      "    Slice 3:\n",
      " The main topic of this text is coeliac disease, including its prevalence in different populations, diagnostic history, and current research into new therapeutic modalities for the condition.\n",
      "\n",
      "\n",
      "Hochelaga, Land of Souls[non-medical].txt\n",
      "    Slice 1:\n",
      " The main topic of this text is the Canadian historical drama film \"Hochelaga, Land Souls,\" directed by François Girard. The film explores Quebec history and local Montreal stories, depicting archaeological discoveries revealing the past indigenous peoples and explorers, as well as the 1837 rebels. The story follows a graduate student studying Mohawk history who helps lead an archaeological excavation that uncovers significant historical findings. The film received critical acclaim and numerous awards, including for its cinematography and performances in various languages.\n",
      "\n",
      "\n",
      "Malignancy[medical].txt\n",
      "    Slice 1:\n",
      " The main topic of this text is malignancy, specifically cancer and its characteristics, causes, diagnosis, treatment, and epidemiology. Malignancy refers to the tendency of a medical condition to progressively worsen and invade adjacent tissues with the potential to spread to distant parts of the body. It contrasts with benign conditions that do not have these properties. The text discusses the differences between malignant and benign tumors, the causes of malignancy including genetics and infectious diseases, the diagnosis and treatment methods for malignancies, and the epidemiology of cancer.\n",
      "\n",
      "\n",
      "Occupy movement[non-medical].txt\n",
      "    Slice 1:\n",
      " The Occupy movement was an international socio-political movement that began in 2011 and expressed opposition to social economic inequality and perceived lack of real democracy around the world. It aimed to advance social economic justice and different forms of democracy. The movement gained widespread attention with the Occupy Wall Street protest in New York City, which inspired similar occupations in dozens of countries across every widely inhabited continent. The movement's main concerns included large corporations and the global financial system, which disproportionately benefit a\n",
      "    Slice 2:\n",
      " The main topic of this text is the Occupy Wall Street movement and its protests in various cities around the world from October 2011 to December 2013. The text covers peaceful protests, violent protests, arrests, evictions, and the shift of the movement's focus beyond protest camps towards engaging in mainstream politics and supporting causes related to the interests of the \"99%\".\n",
      "    Slice 3:\n",
      " The main topic of this text is the Occupy Movement, which began on Wall Street in September 2011 and spread to various cities around the world. The movement was a response to economic inequality and focused on issues such as poverty, workers' rights, and access to education. Protests took place in countries including Mexico, Mongolia, Nepal, Netherlands, New Zealand, Nigeria, Norway, Philippines, South Africa, South Korea, Spain, Switzerland, Taiwan, United Kingdom, and the United States. The text describes\n",
      "    Slice 4:\n",
      " The main topic of this text is the Occupy movement, which began in 2011 and spread to various cities around the world. The text discusses how the movement gained support from political leaders, activists, and citizens, as well as criticism and resistance. It also covers the impact of the movement on politics, social issues, and economic inequality. The text mentions specific events, such as protests, arrests, and legislation, and provides statistics and quotes from various sources. Overall, the text explores the significance and implications of the Occupy movement for contemporary society.\n",
      "\n",
      "\n",
      "Outlaw King[non-medical].txt\n",
      "    Slice 1:\n",
      " The main topic of this text is the historical action drama film \"Outlaw King\" (2018), which tells the story of Scottish king Robert Bruce's rebellion against English rule during the 14th century. The film, directed by David Mackenzie and starring Chris Pine as Robert Bruce, follows Bruce's decision to rebel against Edward I, his marriage to Elizabeth de Burgh, and the ensuing battles leading to Bruce's crowning as king of Scotland. The text also discusses the production details, critical reception, and some historical inaccuracies in the film.\n",
      "\n",
      "\n",
      "Phoenician–Punic literature[non-medical].txt\n",
      "    Slice 1:\n",
      " The main topic of this text is the literature of the ancient Phoenician civilization, specifically focusing on their writings in the Punic language used in Carthage. The text covers various genres such as agricultural treaties, philosophical works, religious texts, history treatises, and poetry, as well as the influence of Phoenician literature on Greek and Roman literature. It also discusses the preservation and translation of Phoenician texts throughout history.\n",
      "\n",
      "\n",
      "Political journalism[non-medical].txt\n",
      "    Slice 1:\n",
      " The main topic of this text is political journalism, including its role in providing information and shaping public opinion, the impact of technology on political journalism, and the challenges and controversies surrounding it. The text also discusses subgenres of political journalism such as election journalism and defense journalism, and the debates around civic journalism and its goals.\n",
      "\n",
      "\n",
      "United States Public Health Service[medical].txt\n",
      "    Slice 1:\n",
      " The main topic of this text is the history and organization of the United States Public Health Service (USPHS), specifically focusing on the USPHS Commissioned Corps, its origins, structure, and various reorganizations throughout history. The text also touches upon significant figures in public health history and ethical controversies related to USPHS research.\n",
      "\n",
      "\n"
     ]
    }
   ],
   "source": [
    "# Print the topic for each slice of each file\n",
    "for file, topics_list in topics.items():\n",
    "    print(file)\n",
    "    for topic in topics_list:\n",
    "        print(f'    Slice {topics_list.index(topic) + 1}:')\n",
    "        print(topic)\n",
    "    print('\\n')"
   ]
  }
 ],
 "metadata": {
  "kernelspec": {
   "display_name": "nlp-lab02_env",
   "language": "python",
   "name": "python3"
  },
  "language_info": {
   "codemirror_mode": {
    "name": "ipython",
    "version": 3
   },
   "file_extension": ".py",
   "mimetype": "text/x-python",
   "name": "python",
   "nbconvert_exporter": "python",
   "pygments_lexer": "ipython3",
   "version": "3.12.1"
  }
 },
 "nbformat": 4,
 "nbformat_minor": 2
}
